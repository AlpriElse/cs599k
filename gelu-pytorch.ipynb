{
 "cells": [
  {
   "cell_type": "code",
   "execution_count": 15,
   "metadata": {},
   "outputs": [
    {
     "name": "stdout",
     "output_type": "stream",
     "text": [
      "Average time: 0.6034145275354386 ms\n"
     ]
    }
   ],
   "source": [
    "import torch\n",
    "import random\n",
    "\n",
    "if not torch.cuda.is_available():\n",
    "    raise ValueError(\"CUDA is not available\")\n",
    "\n",
    "seed = 241\n",
    "random.seed(seed)\n",
    "torch.manual_seed(seed)\n",
    "torch.cuda.manual_seed_all(seed)  # If using GPU\n",
    "\n",
    "N = 2**20\n",
    "D = 256\n",
    "\n",
    "start_event = torch.cuda.Event(enable_timing=True)\n",
    "end_event = torch.cuda.Event(enable_timing=True)\n",
    "\n",
    "device = torch.device(\"cuda\")\n",
    "x = torch.randn(N, D, device=device)\n",
    "\n",
    "act = torch.nn.GELU()\n",
    "\n",
    "# warmup\n",
    "for i in range(10):\n",
    "    y = act(x)\n",
    "\n",
    "# benchmark\n",
    "timings = []\n",
    "for i in range(500):\n",
    "    start_event.record()\n",
    "    y = act(x)\n",
    "    end_event.record()\n",
    "\n",
    "    torch.cuda.synchronize()\n",
    "\n",
    "    timings.append(start_event.elapsed_time(end_event))\n",
    "\n",
    "average_time = sum(timings) / len(timings)\n",
    "\n",
    "print(f\"Average time: {average_time} ms\")"
   ]
  },
  {
   "cell_type": "code",
   "execution_count": 17,
   "metadata": {},
   "outputs": [
    {
     "name": "stdout",
     "output_type": "stream",
     "text": [
      "Elements: 268,435,456\n",
      "Bytes per element: 4\n",
      "Total data processed: 2.15 GB\n",
      "Memory throughput: 3558.89 GB/s\n"
     ]
    }
   ],
   "source": [
    "# Calculate throughput\n",
    "bytes_per_element = x.element_size()  # Usually 4 bytes for float32\n",
    "num_elements = x.numel() * 2  # Read + write operations\n",
    "time_in_seconds = average_time / 1000  # Convert ms to seconds\n",
    "throughput_gb_s = (bytes_per_element * num_elements) / time_in_seconds / 1e9\n",
    "\n",
    "print(f\"Elements: {x.numel():,}\")\n",
    "print(f\"Bytes per element: {bytes_per_element}\")\n",
    "print(f\"Total data processed: {(bytes_per_element * num_elements)/1e9:.2f} GB\")\n",
    "print(f\"Memory throughput: {throughput_gb_s:.2f} GB/s\")"
   ]
  },
  {
   "cell_type": "code",
   "execution_count": null,
   "metadata": {},
   "outputs": [],
   "source": []
  }
 ],
 "metadata": {
  "kernelspec": {
   "display_name": ".venv",
   "language": "python",
   "name": "python3"
  },
  "language_info": {
   "codemirror_mode": {
    "name": "ipython",
    "version": 3
   },
   "file_extension": ".py",
   "mimetype": "text/x-python",
   "name": "python",
   "nbconvert_exporter": "python",
   "pygments_lexer": "ipython3",
   "version": "3.10.12"
  }
 },
 "nbformat": 4,
 "nbformat_minor": 2
}
